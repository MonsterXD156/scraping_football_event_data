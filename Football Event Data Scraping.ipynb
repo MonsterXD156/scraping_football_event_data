{
 "cells": [
  {
   "cell_type": "code",
   "execution_count": 1,
   "id": "3b6164c1",
   "metadata": {},
   "outputs": [],
   "source": [
    "import numpy as np\n",
    "import pandas as pd\n",
    "import requests\n",
    "from bs4 import BeautifulSoup\n",
    "import json"
   ]
  },
  {
   "cell_type": "code",
   "execution_count": 2,
   "id": "c38530a6",
   "metadata": {},
   "outputs": [],
   "source": [
    "# setting up URL, request and the scraping for the JSON scripts\n",
    "url = 'https://understat.com/match/23168'\n",
    "res = requests.get(url)\n",
    "soup = BeautifulSoup(res.content, \"lxml\")\n",
    "scripts = soup.find_all('script')"
   ]
  },
  {
   "cell_type": "code",
   "execution_count": 3,
   "id": "e69ee328",
   "metadata": {},
   "outputs": [],
   "source": [
    "string_with_json_obj_roster = ''\n",
    "string_with_json_obj_shots = ''\n",
    "\n",
    "# Extract relevant script text for rosters and shots\n",
    "for script in scripts:\n",
    "    if 'rostersData' in script.text:\n",
    "        string_with_json_obj_roster = script.text.strip()\n",
    "    if 'shotsData' in script.text:\n",
    "        string_with_json_obj_shots = script.text.strip()\n",
    "\n",
    "# Process and load JSON data for rosters and shots\n",
    "ind_start = string_with_json_obj_roster.index(\"('\")+2\n",
    "ind_end = string_with_json_obj_roster.index(\"')\")\n",
    "json_data = string_with_json_obj_roster[ind_start:ind_end]\n",
    "rosters_json_data = json_data.encode('utf8').decode('unicode_escape')\n",
    "ind_start = string_with_json_obj_shots.index(\"('\")+2\n",
    "ind_end = string_with_json_obj_shots.index(\"')\")\n",
    "json_data = string_with_json_obj_shots[ind_start:ind_end]\n",
    "shots_json_data = json_data.encode('utf8').decode('unicode_escape')\n",
    "rosters_data = json.loads(rosters_json_data)\n",
    "shots_data = json.loads(shots_json_data)"
   ]
  },
  {
   "cell_type": "code",
   "execution_count": 4,
   "id": "cf893bbb",
   "metadata": {},
   "outputs": [],
   "source": [
    "# function for player data mapping in sentences\n",
    "def player_data(player_data):\n",
    "    data = []\n",
    "    for player_id, player_info in player_data.items():\n",
    "        player_data = {\n",
    "            \"id\": player_info.get(\"id\", None),\n",
    "            \"goals\": player_info.get(\"goals\", None),\n",
    "            \"own_goals\": player_info.get(\"own_goals\", None),\n",
    "            \"shots\": player_info.get(\"shots\", None),\n",
    "            \"xG\": player_info.get(\"xG\", None),\n",
    "            \"time\": player_info.get(\"time\", None),\n",
    "            \"player_id\": player_info.get(\"player_id\", None),\n",
    "            \"team_id\": player_info.get(\"team_id\", None),\n",
    "            \"position\": player_info.get(\"position\", None),\n",
    "            \"player\": player_info.get(\"player\", None),\n",
    "            \"h_a\": player_info.get(\"h_a\", None),\n",
    "            \"yellow_card\": player_info.get(\"yellow_card\", None),\n",
    "            \"red_card\": player_info.get(\"red_card\", None),\n",
    "            \"roster_in\": player_info.get(\"roster_in\", None),\n",
    "            \"roster_out\": player_info.get(\"roster_out\", None),\n",
    "            \"key_passes\": player_info.get(\"key_passes\", None),\n",
    "            \"assists\": player_info.get(\"assists\", None),\n",
    "            \"xA\": player_info.get(\"xA\", None),\n",
    "            \"xGChain\": player_info.get(\"xGChain\", None),\n",
    "            \"xGBuildup\": player_info.get(\"xGBuildup\", None),\n",
    "            \"positionOrder\": player_info.get(\"positionOrder\", None),\n",
    "        }\n",
    "        data.append(player_data)\n",
    "    return data\n",
    "\n",
    "home_team_data = player_data(rosters_data[\"h\"])\n",
    "away_team_data = player_data(rosters_data[\"a\"])"
   ]
  },
  {
   "cell_type": "code",
   "execution_count": 5,
   "id": "5f09bf45",
   "metadata": {},
   "outputs": [],
   "source": [
    "home_team = shots_data['h'][0]['h_team']\n",
    "away_team = shots_data['a'][0]['a_team']\n",
    "\n",
    "# function that generates sentences for all player events\n",
    "def shots_sentences(shots_data):\n",
    "    sentences = []\n",
    "\n",
    "    for team in ['h', 'a']:\n",
    "        for event in shots_data[team]:\n",
    "            team = event['h_a']\n",
    "            if team == 'h':\n",
    "                team_name = home_team\n",
    "            elif team == 'a':\n",
    "                team_name = away_team\n",
    "            sentence = f\"{event['player']} in the {event['minute']}th minute: \"\n",
    "            if event['result'] == 'Goal':\n",
    "                sentence += f\"Scored a goal for {team_name}!\"\n",
    "            elif event['result'] == 'MissedShots':\n",
    "                sentence += f\"Missed a shot for {team_name}.\"\n",
    "            elif event['result'] == 'BlockedShot':\n",
    "                sentence += f\"Attempted a shot, but it was blocked for {team_name}.\"\n",
    "            elif event['result'] == 'SavedShot':\n",
    "                sentence += f\"Shot on target, but saved for {team_name}.\"\n",
    "            elif event['result'] == 'ShotOnPost':\n",
    "                sentence += f\"Shot on post, but missed for {team_name}.\"\n",
    "        \n",
    "            sentences.append(sentence)\n",
    "    home_sentence = f\"The home team is {home_team}.\"\n",
    "    away_sentence = f\"The away team is {away_team}.\"\n",
    "    against_sentence = f\"{home_team} played against {away_team}\"\n",
    "    date_sentence = f\"The game took place on {event['date']}.\"\n",
    "    sentences.extend([home_sentence, away_sentence, against_sentence, date_sentence])\n",
    "    \n",
    "    return sentences"
   ]
  },
  {
   "cell_type": "code",
   "execution_count": 6,
   "id": "2ebe69f2",
   "metadata": {},
   "outputs": [
    {
     "name": "stdout",
     "output_type": "stream",
     "text": [
      "Koen Casteels has 0 goals and 0 assists.\n",
      "Koen Casteels has 0 own goals.\n",
      "Koen Casteels has 0 shots.\n",
      "Koen Casteels has 0 expected goals.\n",
      "Koen Casteels has played 90 minutes.\n",
      "Koen Casteels plays as a GK.\n",
      "Koen Casteels has 1 yellow cards.\n",
      "Koen Casteels has 0 red cards.\n",
      "Koen Casteels made 0 keypasses.\n",
      "Koen Casteels has 0 expected assists.\n",
      "Koen Casteels plays for Wolfsburg.\n",
      "Cédric Zesiger has 0 goals and 0 assists.\n",
      "Cédric Zesiger has 0 own goals.\n",
      "Cédric Zesiger has 1 shots.\n",
      "Cédric Zesiger has 0.0340309664607048 expected goals.\n",
      "Cédric Zesiger has played 90 minutes.\n",
      "Cédric Zesiger plays as a DC.\n",
      "Cédric Zesiger has 1 yellow cards.\n",
      "Cédric Zesiger has 0 red cards.\n",
      "Cédric Zesiger made 0 keypasses.\n",
      "Cédric Zesiger has 0 expected assists.\n",
      "Cédric Zesiger plays for Wolfsburg.\n",
      "Sebastiaan Bornauw has 0 goals and 0 assists.\n",
      "Sebastiaan Bornauw has 0 own goals.\n",
      "Sebastiaan Bornauw has 0 shots.\n",
      "Sebastiaan Bornauw has 0 expected goals.\n",
      "Sebastiaan Bornauw has played 50 minutes.\n",
      "Sebastiaan Bornauw plays as a DC.\n",
      "Sebastiaan Bornauw has 0 yellow cards.\n",
      "Sebastiaan Bornauw has 0 red cards.\n",
      "Sebastiaan Bornauw made 0 keypasses.\n",
      "Sebastiaan Bornauw has 0 expected assists.\n",
      "Sebastiaan Bornauw plays for Wolfsburg.\n",
      "Maxence Lacroix has 0 goals and 0 assists.\n",
      "Maxence Lacroix has 0 own goals.\n",
      "Maxence Lacroix has 0 shots.\n",
      "Maxence Lacroix has 0 expected goals.\n",
      "Maxence Lacroix has played 90 minutes.\n",
      "Maxence Lacroix plays as a DC.\n",
      "Maxence Lacroix has 1 yellow cards.\n",
      "Maxence Lacroix has 0 red cards.\n",
      "Maxence Lacroix made 0 keypasses.\n",
      "Maxence Lacroix has 0 expected assists.\n",
      "Maxence Lacroix plays for Wolfsburg.\n",
      "Bote Baku has 0 goals and 0 assists.\n",
      "Bote Baku has 0 own goals.\n",
      "Bote Baku has 0 shots.\n",
      "Bote Baku has 0 expected goals.\n",
      "Bote Baku has played 90 minutes.\n",
      "Bote Baku plays as a DMR.\n",
      "Bote Baku has 0 yellow cards.\n",
      "Bote Baku has 0 red cards.\n",
      "Bote Baku made 0 keypasses.\n",
      "Bote Baku has 0 expected assists.\n",
      "Bote Baku plays for Wolfsburg.\n",
      "Rogerio has 1 goals and 0 assists.\n",
      "Rogerio has 0 own goals.\n",
      "Rogerio has 1 shots.\n",
      "Rogerio has 0.12178759276866913 expected goals.\n",
      "Rogerio has played 90 minutes.\n",
      "Rogerio plays as a DML.\n",
      "Rogerio has 0 yellow cards.\n",
      "Rogerio has 0 red cards.\n",
      "Rogerio made 1 keypasses.\n",
      "Rogerio has 0.02964153327047825 expected assists.\n",
      "Rogerio plays for Wolfsburg.\n",
      "Aster Vranckx has 0 goals and 0 assists.\n",
      "Aster Vranckx has 0 own goals.\n",
      "Aster Vranckx has 0 shots.\n",
      "Aster Vranckx has 0 expected goals.\n",
      "Aster Vranckx has played 90 minutes.\n",
      "Aster Vranckx plays as a MC.\n",
      "Aster Vranckx has 0 yellow cards.\n",
      "Aster Vranckx has 0 red cards.\n",
      "Aster Vranckx made 0 keypasses.\n",
      "Aster Vranckx has 0 expected assists.\n",
      "Aster Vranckx plays for Wolfsburg.\n",
      "Mattias Svanberg has 0 goals and 1 assists.\n",
      "Mattias Svanberg has 0 own goals.\n",
      "Mattias Svanberg has 3 shots.\n",
      "Mattias Svanberg has 0.15630276501178741 expected goals.\n",
      "Mattias Svanberg has played 87 minutes.\n",
      "Mattias Svanberg plays as a MC.\n",
      "Mattias Svanberg has 1 yellow cards.\n",
      "Mattias Svanberg has 0 red cards.\n",
      "Mattias Svanberg made 2 keypasses.\n",
      "Mattias Svanberg has 0.12767855823040009 expected assists.\n",
      "Mattias Svanberg plays for Wolfsburg.\n",
      "Václav Cerny has 0 goals and 0 assists.\n",
      "Václav Cerny has 0 own goals.\n",
      "Václav Cerny has 1 shots.\n",
      "Václav Cerny has 0.02964153327047825 expected goals.\n",
      "Václav Cerny has played 77 minutes.\n",
      "Václav Cerny plays as a FWR.\n",
      "Václav Cerny has 0 yellow cards.\n",
      "Václav Cerny has 0 red cards.\n",
      "Václav Cerny made 1 keypasses.\n",
      "Václav Cerny has 0.05030355975031853 expected assists.\n",
      "Václav Cerny plays for Wolfsburg.\n",
      "Jonas Wind has 1 goals and 1 assists.\n",
      "Jonas Wind has 0 own goals.\n",
      "Jonas Wind has 2 shots.\n",
      "Jonas Wind has 0.14762011170387268 expected goals.\n",
      "Jonas Wind has played 88 minutes.\n",
      "Jonas Wind plays as a FW.\n",
      "Jonas Wind has 0 yellow cards.\n",
      "Jonas Wind has 0 red cards.\n",
      "Jonas Wind made 2 keypasses.\n",
      "Jonas Wind has 0.2290002405643463 expected assists.\n",
      "Jonas Wind plays for Wolfsburg.\n",
      "Lovro Majer has 0 goals and 0 assists.\n",
      "Lovro Majer has 0 own goals.\n",
      "Lovro Majer has 1 shots.\n",
      "Lovro Majer has 0.10721265524625778 expected goals.\n",
      "Lovro Majer has played 81 minutes.\n",
      "Lovro Majer plays as a FWL.\n",
      "Lovro Majer has 0 yellow cards.\n",
      "Lovro Majer has 0 red cards.\n",
      "Lovro Majer made 1 keypasses.\n",
      "Lovro Majer has 0.09207749366760254 expected assists.\n",
      "Lovro Majer plays for Wolfsburg.\n",
      "Yannick Gerhardt has 0 goals and 0 assists.\n",
      "Yannick Gerhardt has 0 own goals.\n",
      "Yannick Gerhardt has 0 shots.\n",
      "Yannick Gerhardt has 0 expected goals.\n",
      "Yannick Gerhardt has played 3 minutes.\n",
      "Yannick Gerhardt plays as a Sub.\n",
      "Yannick Gerhardt has 0 yellow cards.\n",
      "Yannick Gerhardt has 0 red cards.\n",
      "Yannick Gerhardt made 0 keypasses.\n",
      "Yannick Gerhardt has 0 expected assists.\n",
      "Yannick Gerhardt plays for Wolfsburg.\n",
      "Kevin Paredes has 0 goals and 0 assists.\n",
      "Kevin Paredes has 0 own goals.\n",
      "Kevin Paredes has 1 shots.\n",
      "Kevin Paredes has 0.04429564252495766 expected goals.\n",
      "Kevin Paredes has played 13 minutes.\n",
      "Kevin Paredes plays as a Sub.\n",
      "Kevin Paredes has 0 yellow cards.\n",
      "Kevin Paredes has 0 red cards.\n",
      "Kevin Paredes made 0 keypasses.\n",
      "Kevin Paredes has 0 expected assists.\n",
      "Kevin Paredes plays for Wolfsburg.\n",
      "Moritz Jenz has 0 goals and 0 assists.\n",
      "Moritz Jenz has 0 own goals.\n",
      "Moritz Jenz has 0 shots.\n",
      "Moritz Jenz has 0 expected goals.\n",
      "Moritz Jenz has played 40 minutes.\n",
      "Moritz Jenz plays as a Sub.\n",
      "Moritz Jenz has 0 yellow cards.\n",
      "Moritz Jenz has 0 red cards.\n",
      "Moritz Jenz made 0 keypasses.\n",
      "Moritz Jenz has 0 expected assists.\n",
      "Moritz Jenz plays for Wolfsburg.\n",
      "Maximilian Arnold has 0 goals and 0 assists.\n",
      "Maximilian Arnold has 0 own goals.\n",
      "Maximilian Arnold has 0 shots.\n",
      "Maximilian Arnold has 0 expected goals.\n",
      "Maximilian Arnold has played 9 minutes.\n",
      "Maximilian Arnold plays as a Sub.\n",
      "Maximilian Arnold has 0 yellow cards.\n",
      "Maximilian Arnold has 0 red cards.\n",
      "Maximilian Arnold made 0 keypasses.\n",
      "Maximilian Arnold has 0 expected assists.\n",
      "Maximilian Arnold plays for Wolfsburg.\n",
      "Tiago Tomás has 0 goals and 0 assists.\n",
      "Tiago Tomás has 0 own goals.\n",
      "Tiago Tomás has 0 shots.\n",
      "Tiago Tomás has 0 expected goals.\n",
      "Tiago Tomás has played 2 minutes.\n",
      "Tiago Tomás plays as a Sub.\n",
      "Tiago Tomás has 0 yellow cards.\n",
      "Tiago Tomás has 0 red cards.\n",
      "Tiago Tomás made 0 keypasses.\n",
      "Tiago Tomás has 0 expected assists.\n",
      "Tiago Tomás plays for Wolfsburg.\n",
      "Janis Blaswich has 0 goals and 0 assists.\n",
      "Janis Blaswich has 0 own goals.\n",
      "Janis Blaswich has 0 shots.\n",
      "Janis Blaswich has 0 expected goals.\n",
      "Janis Blaswich has played 90 minutes.\n",
      "Janis Blaswich plays as a GK.\n",
      "Janis Blaswich has 0 yellow cards.\n",
      "Janis Blaswich has 0 red cards.\n",
      "Janis Blaswich made 0 keypasses.\n",
      "Janis Blaswich has 0 expected assists.\n",
      "Janis Blaswich plays for RasenBallsport Leipzig.\n",
      "Benjamin Henrichs has 0 goals and 0 assists.\n",
      "Benjamin Henrichs has 0 own goals.\n",
      "Benjamin Henrichs has 2 shots.\n",
      "Benjamin Henrichs has 0.0760100930929184 expected goals.\n",
      "Benjamin Henrichs has played 90 minutes.\n",
      "Benjamin Henrichs plays as a DR.\n",
      "Benjamin Henrichs has 0 yellow cards.\n",
      "Benjamin Henrichs has 0 red cards.\n",
      "Benjamin Henrichs made 3 keypasses.\n",
      "Benjamin Henrichs has 0.16353361308574677 expected assists.\n",
      "Benjamin Henrichs plays for RasenBallsport Leipzig.\n",
      "Castello Lukeba has 0 goals and 0 assists.\n",
      "Castello Lukeba has 0 own goals.\n",
      "Castello Lukeba has 1 shots.\n",
      "Castello Lukeba has 0.06723342835903168 expected goals.\n",
      "Castello Lukeba has played 90 minutes.\n",
      "Castello Lukeba plays as a DC.\n",
      "Castello Lukeba has 0 yellow cards.\n",
      "Castello Lukeba has 0 red cards.\n",
      "Castello Lukeba made 0 keypasses.\n",
      "Castello Lukeba has 0 expected assists.\n",
      "Castello Lukeba plays for RasenBallsport Leipzig.\n",
      "Mohamed Simakan has 0 goals and 0 assists.\n",
      "Mohamed Simakan has 0 own goals.\n",
      "Mohamed Simakan has 2 shots.\n",
      "Mohamed Simakan has 0.06954140216112137 expected goals.\n",
      "Mohamed Simakan has played 90 minutes.\n",
      "Mohamed Simakan plays as a DC.\n",
      "Mohamed Simakan has 0 yellow cards.\n",
      "Mohamed Simakan has 0 red cards.\n",
      "Mohamed Simakan made 1 keypasses.\n",
      "Mohamed Simakan has 0.03070858307182789 expected assists.\n",
      "Mohamed Simakan plays for RasenBallsport Leipzig.\n",
      "David Raum has 0 goals and 0 assists.\n",
      "David Raum has 0 own goals.\n",
      "David Raum has 0 shots.\n",
      "David Raum has 0 expected goals.\n",
      "David Raum has played 90 minutes.\n",
      "David Raum plays as a DL.\n",
      "David Raum has 0 yellow cards.\n",
      "David Raum has 0 red cards.\n",
      "David Raum made 3 keypasses.\n",
      "David Raum has 0.3383170962333679 expected assists.\n",
      "David Raum plays for RasenBallsport Leipzig.\n",
      "Xaver Schlager has 0 goals and 0 assists.\n",
      "Xaver Schlager has 0 own goals.\n",
      "Xaver Schlager has 1 shots.\n",
      "Xaver Schlager has 0.02625221200287342 expected goals.\n",
      "Xaver Schlager has played 90 minutes.\n",
      "Xaver Schlager plays as a DMC.\n",
      "Xaver Schlager has 0 yellow cards.\n",
      "Xaver Schlager has 0 red cards.\n",
      "Xaver Schlager made 4 keypasses.\n",
      "Xaver Schlager has 0.445336252450943 expected assists.\n",
      "Xaver Schlager plays for RasenBallsport Leipzig.\n",
      "Amadou Haidara has 0 goals and 0 assists.\n",
      "Amadou Haidara has 0 own goals.\n",
      "Amadou Haidara has 2 shots.\n",
      "Amadou Haidara has 0.07023491710424423 expected goals.\n",
      "Amadou Haidara has played 87 minutes.\n",
      "Amadou Haidara plays as a DMC.\n",
      "Amadou Haidara has 0 yellow cards.\n",
      "Amadou Haidara has 0 red cards.\n",
      "Amadou Haidara made 0 keypasses.\n",
      "Amadou Haidara has 0 expected assists.\n",
      "Amadou Haidara plays for RasenBallsport Leipzig.\n",
      "Christoph Baumgartner has 0 goals and 0 assists.\n",
      "Christoph Baumgartner has 0 own goals.\n",
      "Christoph Baumgartner has 4 shots.\n",
      "Christoph Baumgartner has 0.2755228877067566 expected goals.\n",
      "Christoph Baumgartner has played 87 minutes.\n",
      "Christoph Baumgartner plays as a AMC.\n",
      "Christoph Baumgartner has 0 yellow cards.\n",
      "Christoph Baumgartner has 0 red cards.\n",
      "Christoph Baumgartner made 0 keypasses.\n",
      "Christoph Baumgartner has 0 expected assists.\n",
      "Christoph Baumgartner plays for RasenBallsport Leipzig.\n",
      "Xavi Simons has 0 goals and 0 assists.\n",
      "Xavi Simons has 0 own goals.\n",
      "Xavi Simons has 3 shots.\n",
      "Xavi Simons has 0.05542907863855362 expected goals.\n",
      "Xavi Simons has played 90 minutes.\n",
      "Xavi Simons plays as a AMC.\n",
      "Xavi Simons has 1 yellow cards.\n",
      "Xavi Simons has 0 red cards.\n",
      "Xavi Simons made 4 keypasses.\n",
      "Xavi Simons has 0.6782251596450806 expected assists.\n",
      "Xavi Simons plays for RasenBallsport Leipzig.\n",
      "Loïs Openda has 0 goals and 1 assists.\n",
      "Loïs Openda has 0 own goals.\n",
      "Loïs Openda has 6 shots.\n",
      "Loïs Openda has 0.9551900625228882 expected goals.\n",
      "Loïs Openda has played 90 minutes.\n",
      "Loïs Openda plays as a FW.\n",
      "Loïs Openda has 1 yellow cards.\n",
      "Loïs Openda has 0 red cards.\n",
      "Loïs Openda made 2 keypasses.\n",
      "Loïs Openda has 0.5074869990348816 expected assists.\n",
      "Loïs Openda plays for RasenBallsport Leipzig.\n",
      "Yussuf Poulsen has 1 goals and 0 assists.\n",
      "Yussuf Poulsen has 0 own goals.\n",
      "Yussuf Poulsen has 4 shots.\n",
      "Yussuf Poulsen has 1.311048150062561 expected goals.\n",
      "Yussuf Poulsen has played 77 minutes.\n",
      "Yussuf Poulsen plays as a FW.\n",
      "Yussuf Poulsen has 0 yellow cards.\n",
      "Yussuf Poulsen has 0 red cards.\n",
      "Yussuf Poulsen made 1 keypasses.\n",
      "Yussuf Poulsen has 0.43305978178977966 expected assists.\n",
      "Yussuf Poulsen plays for RasenBallsport Leipzig.\n",
      "Emil Forsberg has 0 goals and 0 assists.\n",
      "Emil Forsberg has 0 own goals.\n",
      "Emil Forsberg has 0 shots.\n",
      "Emil Forsberg has 0 expected goals.\n",
      "Emil Forsberg has played 13 minutes.\n",
      "Emil Forsberg plays as a Sub.\n",
      "Emil Forsberg has 0 yellow cards.\n",
      "Emil Forsberg has 0 red cards.\n",
      "Emil Forsberg made 1 keypasses.\n",
      "Emil Forsberg has 0.06723342835903168 expected assists.\n",
      "Emil Forsberg plays for RasenBallsport Leipzig.\n",
      "Nicolas Seiwald has 0 goals and 0 assists.\n",
      "Nicolas Seiwald has 0 own goals.\n",
      "Nicolas Seiwald has 0 shots.\n",
      "Nicolas Seiwald has 0 expected goals.\n",
      "Nicolas Seiwald has played 3 minutes.\n",
      "Nicolas Seiwald plays as a Sub.\n",
      "Nicolas Seiwald has 0 yellow cards.\n",
      "Nicolas Seiwald has 0 red cards.\n",
      "Nicolas Seiwald made 0 keypasses.\n",
      "Nicolas Seiwald has 0 expected assists.\n",
      "Nicolas Seiwald plays for RasenBallsport Leipzig.\n",
      "Fabio Carvalho has 0 goals and 0 assists.\n",
      "Fabio Carvalho has 0 own goals.\n",
      "Fabio Carvalho has 0 shots.\n",
      "Fabio Carvalho has 0 expected goals.\n",
      "Fabio Carvalho has played 3 minutes.\n",
      "Fabio Carvalho plays as a Sub.\n",
      "Fabio Carvalho has 0 yellow cards.\n",
      "Fabio Carvalho has 0 red cards.\n",
      "Fabio Carvalho made 0 keypasses.\n",
      "Fabio Carvalho has 0 expected assists.\n",
      "Fabio Carvalho plays for RasenBallsport Leipzig.\n"
     ]
    }
   ],
   "source": [
    "all_player_sentences = []\n",
    "\n",
    "# for loop for player sentences\n",
    "for player in home_team_data + away_team_data:\n",
    "    team = home_team if player['h_a'] == 'h' else away_team\n",
    "    sentence_goal = f\"{player['player']} has {player['goals']} goals and {player['assists']} assists.\"\n",
    "    sentence_own_goal = f\"{player['player']} has {player['own_goals']} own goals.\"\n",
    "    sentence_shots = f\"{player['player']} has {player['shots']} shots.\"\n",
    "    sentence_xGoals = f\"{player['player']} has {player['xG']} expected goals.\"\n",
    "    sentence_minutes = f\"{player['player']} has played {player['time']} minutes.\"\n",
    "    sentence_position = f\"{player['player']} plays as a {player['position']}.\"\n",
    "    sentence_y_card = f\"{player['player']} has {player['yellow_card']} yellow cards.\" \n",
    "    sentence_r_card = f\"{player['player']} has {player['red_card']} red cards.\"\n",
    "    sentence_keypasses = f\"{player['player']} made {player['key_passes']} keypasses.\"\n",
    "    sentence_xAssists = f\"{player['player']} has {player['xA']} expected assists.\"\n",
    "    sentence_team = f\"{player['player']} plays for {team}.\"\n",
    "    \n",
    "    all_player_sentences.extend([sentence_goal, sentence_own_goal, sentence_shots, sentence_xGoals, sentence_minutes, sentence_position, sentence_y_card, sentence_r_card, sentence_keypasses, sentence_xAssists, sentence_team])\n",
    "    \n",
    "for sentence in all_player_sentences:\n",
    "    print(sentence)"
   ]
  },
  {
   "cell_type": "code",
   "execution_count": 7,
   "id": "029ac471",
   "metadata": {},
   "outputs": [
    {
     "name": "stdout",
     "output_type": "stream",
     "text": [
      "Lovro Majer in the 5th minute: Attempted a shot, but it was blocked for Wolfsburg.\n",
      "Jonas Wind in the 5th minute: Attempted a shot, but it was blocked for Wolfsburg.\n",
      "Mattias Svanberg in the 5th minute: Shot on target, but saved for Wolfsburg.\n",
      "Jonas Wind in the 8th minute: Scored a goal for Wolfsburg!\n",
      "Mattias Svanberg in the 43th minute: Missed a shot for Wolfsburg.\n",
      "Cédric Zesiger in the 48th minute: Missed a shot for Wolfsburg.\n",
      "Mattias Svanberg in the 52th minute: Attempted a shot, but it was blocked for Wolfsburg.\n",
      "Václav Cerny in the 61th minute: Missed a shot for Wolfsburg.\n",
      "Rogerio in the 65th minute: Scored a goal for Wolfsburg!\n",
      "Kevin Paredes in the 80th minute: Shot on target, but saved for Wolfsburg.\n",
      "Mohamed Simakan in the 3th minute: Missed a shot for RasenBallsport Leipzig.\n",
      "Loïs Openda in the 16th minute: Shot on target, but saved for RasenBallsport Leipzig.\n",
      "Loïs Openda in the 16th minute: Missed a shot for RasenBallsport Leipzig.\n",
      "Yussuf Poulsen in the 19th minute: Shot on target, but saved for RasenBallsport Leipzig.\n",
      "Loïs Openda in the 26th minute: Shot on target, but saved for RasenBallsport Leipzig.\n",
      "Christoph Baumgartner in the 27th minute: Missed a shot for RasenBallsport Leipzig.\n",
      "Christoph Baumgartner in the 27th minute: Attempted a shot, but it was blocked for RasenBallsport Leipzig.\n",
      "Xavi Simons in the 30th minute: Shot on target, but saved for RasenBallsport Leipzig.\n",
      "Amadou Haidara in the 37th minute: Attempted a shot, but it was blocked for RasenBallsport Leipzig.\n",
      "Benjamin Henrichs in the 38th minute: Attempted a shot, but it was blocked for RasenBallsport Leipzig.\n",
      "Christoph Baumgartner in the 38th minute: Shot on target, but saved for RasenBallsport Leipzig.\n",
      "Amadou Haidara in the 39th minute: Shot on target, but saved for RasenBallsport Leipzig.\n",
      "Xavi Simons in the 44th minute: Attempted a shot, but it was blocked for RasenBallsport Leipzig.\n",
      "Xaver Schlager in the 44th minute: Attempted a shot, but it was blocked for RasenBallsport Leipzig.\n",
      "Yussuf Poulsen in the 46th minute: Missed a shot for RasenBallsport Leipzig.\n",
      "Yussuf Poulsen in the 51th minute: Scored a goal for RasenBallsport Leipzig!\n",
      "Mohamed Simakan in the 54th minute: Missed a shot for RasenBallsport Leipzig.\n",
      "Loïs Openda in the 55th minute: Shot on target, but saved for RasenBallsport Leipzig.\n",
      "Yussuf Poulsen in the 59th minute: Shot on target, but saved for RasenBallsport Leipzig.\n",
      "Loïs Openda in the 59th minute: Missed a shot for RasenBallsport Leipzig.\n",
      "Christoph Baumgartner in the 72th minute: Attempted a shot, but it was blocked for RasenBallsport Leipzig.\n",
      "Castello Lukeba in the 74th minute: Missed a shot for RasenBallsport Leipzig.\n",
      "Loïs Openda in the 78th minute: Attempted a shot, but it was blocked for RasenBallsport Leipzig.\n",
      "Benjamin Henrichs in the 87th minute: Attempted a shot, but it was blocked for RasenBallsport Leipzig.\n",
      "Xavi Simons in the 91th minute: Missed a shot for RasenBallsport Leipzig.\n",
      "The home team is Wolfsburg.\n",
      "The away team is RasenBallsport Leipzig.\n",
      "Wolfsburg played against RasenBallsport Leipzig\n",
      "The game took place on 2023-11-25 14:30:00.\n"
     ]
    }
   ],
   "source": [
    "event_sentences = shots_sentences(shots_data)\n",
    "for sentence in event_sentences:\n",
    "    print(sentence)"
   ]
  },
  {
   "cell_type": "code",
   "execution_count": 1,
   "id": "383b5e2f",
   "metadata": {},
   "outputs": [
    {
     "name": "stdout",
     "output_type": "stream",
     "text": [
      "env: OPENAI_API_KEY=Key\n"
     ]
    }
   ],
   "source": [
    "import os\n",
    "import openai\n",
    "%env OPENAI_API_KEY = Key\n",
    "# Use of own Openai API Key for ChatGPT usage\n",
    "OPENAI_API_KEY  = os.environ['OPENAI_API_KEY']"
   ]
  },
  {
   "cell_type": "code",
   "execution_count": 9,
   "id": "74f5f1a7-40ba-44b8-971d-8af2a2daf40b",
   "metadata": {},
   "outputs": [
    {
     "name": "stdout",
     "output_type": "stream",
     "text": [
      "                                                     0\n",
      "0             Koen Casteels has 0 goals and 0 assists.\n",
      "1                       Koen Casteels has 0 own goals.\n",
      "2                           Koen Casteels has 0 shots.\n",
      "3                  Koen Casteels has 0 expected goals.\n",
      "4                 Koen Casteels has played 90 minutes.\n",
      "..                                                 ...\n",
      "364  Xavi Simons in the 91th minute: Missed a shot ...\n",
      "365                        The home team is Wolfsburg.\n",
      "366           The away team is RasenBallsport Leipzig.\n",
      "367    Wolfsburg played against RasenBallsport Leipzig\n",
      "368        The game took place on 2023-11-25 14:30:00.\n",
      "\n",
      "[369 rows x 1 columns]\n"
     ]
    }
   ],
   "source": [
    "# connection all sentences and turning them into a DataFrame\n",
    "liste = all_player_sentences + event_sentences\n",
    "df = pd.DataFrame(liste)\n",
    "print(df)"
   ]
  },
  {
   "cell_type": "code",
   "execution_count": 10,
   "id": "f1687321-dbb5-472a-a926-fceee758c8f0",
   "metadata": {},
   "outputs": [],
   "source": [
    "import tiktoken\n",
    "from langchain.text_splitter import TokenTextSplitter\n",
    "# Split text into chunks of 512 tokens, with 20% token overlap\n",
    "text_splitter = TokenTextSplitter(chunk_size=512,chunk_overlap=103)"
   ]
  },
  {
   "cell_type": "code",
   "execution_count": 11,
   "id": "4c88c825-12b9-47c7-a1a7-8e73668fbf99",
   "metadata": {},
   "outputs": [],
   "source": [
    "# Helper func: calculate number of tokens\n",
    "def num_tokens_from_string(string: str, encoding_name = \"cl100k_base\") -> int:\n",
    "    if not string:\n",
    "        return 0\n",
    "    # Returns the number of tokens in a text string\n",
    "    encoding = tiktoken.get_encoding(encoding_name)\n",
    "    num_tokens = len(encoding.encode(string))\n",
    "    return num_tokens\n",
    "\n",
    "new_list = []\n",
    "\n",
    "# Create a new list by splitting up text into token sizes of around 512 tokens\n",
    "for i in range(len(df.index)):\n",
    "    text = df[0][i]\n",
    "    token_len = num_tokens_from_string(text)\n",
    "    if token_len <= 512:\n",
    "        new_list.append([df[0][i]])\n",
    "    else:\n",
    "        #split text into chunks using text splitter\n",
    "        split_text = text_splitter.split_text(text)\n",
    "        for j in range(len(split_text)):\n",
    "            new_list.append([split_text[j]])\n",
    "            "
   ]
  },
  {
   "cell_type": "code",
   "execution_count": 12,
   "id": "747e0ca6-3dc5-45d3-83aa-2258623422dc",
   "metadata": {},
   "outputs": [
    {
     "data": {
      "text/html": [
       "<div>\n",
       "<style scoped>\n",
       "    .dataframe tbody tr th:only-of-type {\n",
       "        vertical-align: middle;\n",
       "    }\n",
       "\n",
       "    .dataframe tbody tr th {\n",
       "        vertical-align: top;\n",
       "    }\n",
       "\n",
       "    .dataframe thead th {\n",
       "        text-align: right;\n",
       "    }\n",
       "</style>\n",
       "<table border=\"1\" class=\"dataframe\">\n",
       "  <thead>\n",
       "    <tr style=\"text-align: right;\">\n",
       "      <th></th>\n",
       "      <th>content</th>\n",
       "    </tr>\n",
       "  </thead>\n",
       "  <tbody>\n",
       "    <tr>\n",
       "      <th>0</th>\n",
       "      <td>Koen Casteels has 0 goals and 0 assists.</td>\n",
       "    </tr>\n",
       "    <tr>\n",
       "      <th>1</th>\n",
       "      <td>Koen Casteels has 0 own goals.</td>\n",
       "    </tr>\n",
       "    <tr>\n",
       "      <th>2</th>\n",
       "      <td>Koen Casteels has 0 shots.</td>\n",
       "    </tr>\n",
       "    <tr>\n",
       "      <th>3</th>\n",
       "      <td>Koen Casteels has 0 expected goals.</td>\n",
       "    </tr>\n",
       "    <tr>\n",
       "      <th>4</th>\n",
       "      <td>Koen Casteels has played 90 minutes.</td>\n",
       "    </tr>\n",
       "  </tbody>\n",
       "</table>\n",
       "</div>"
      ],
      "text/plain": [
       "                                    content\n",
       "0  Koen Casteels has 0 goals and 0 assists.\n",
       "1            Koen Casteels has 0 own goals.\n",
       "2                Koen Casteels has 0 shots.\n",
       "3       Koen Casteels has 0 expected goals.\n",
       "4      Koen Casteels has played 90 minutes."
      ]
     },
     "execution_count": 12,
     "metadata": {},
     "output_type": "execute_result"
    }
   ],
   "source": [
    "df_new = pd.DataFrame(new_list, columns=['content'])\n",
    "df_new.head()"
   ]
  },
  {
   "cell_type": "code",
   "execution_count": 13,
   "id": "372b41c8-063d-4cf4-a010-0c3c722602c7",
   "metadata": {},
   "outputs": [],
   "source": [
    "#load documents from Pandas dataframe for insertion into database\n",
    "from langchain.document_loaders import DataFrameLoader\n",
    "\n",
    "# page_content_column is the column name in the dataframe to create embeddings for\n",
    "loader = DataFrameLoader(df_new, page_content_column = 'content')\n",
    "docs = loader.load()"
   ]
  },
  {
   "cell_type": "code",
   "execution_count": 14,
   "id": "39afa9a8-c8ed-49fc-9ce0-77c1f116a4f2",
   "metadata": {},
   "outputs": [],
   "source": [
    "from langchain.vectorstores import FAISS\n",
    "from langchain.embeddings.openai import OpenAIEmbeddings\n",
    "# Creating a FAISS vector store from documents using OpenAI embeddings\n",
    "db = FAISS.from_documents(docs, OpenAIEmbeddings())\n",
    "# Creating a retriever with search parameters for returning the top 3 results\n",
    "retriever = db.as_retriever(\n",
    "    search_kwargs={\"k\": 3}\n",
    "    )"
   ]
  },
  {
   "cell_type": "code",
   "execution_count": 15,
   "id": "cc21a6cc-b5d1-4157-adb2-317c176633f1",
   "metadata": {},
   "outputs": [],
   "source": [
    "from langchain.chat_models import ChatOpenAI\n",
    "# selecting the LLM from OpenAI\n",
    "llm = ChatOpenAI(temperature = 0.0, model = 'gpt-3.5-turbo-16k')"
   ]
  },
  {
   "cell_type": "code",
   "execution_count": 16,
   "id": "e0f3988d-f438-4b22-81c9-3b04a32d545a",
   "metadata": {},
   "outputs": [],
   "source": [
    "from langchain.chains import RetrievalQA\n",
    "# Creating RetrievalQA system with LangChain using llm, \"stuff\" chain type, retriever, and verbose mode\n",
    "qa_stuff = RetrievalQA.from_chain_type(\n",
    "    llm=llm, \n",
    "    chain_type=\"stuff\", \n",
    "    retriever=retriever,\n",
    "    verbose=True,\n",
    ")"
   ]
  },
  {
   "cell_type": "code",
   "execution_count": 17,
   "id": "0222c66f-0e4c-402b-89b2-c16879d99b35",
   "metadata": {},
   "outputs": [
    {
     "name": "stdout",
     "output_type": "stream",
     "text": [
      "\n",
      "\n",
      "\u001b[1m> Entering new RetrievalQA chain...\u001b[0m\n",
      "\n",
      "\u001b[1m> Finished chain.\u001b[0m\n"
     ]
    },
    {
     "data": {
      "text/markdown": [
       "Yussuf Poulsen has the highest expected goal value with 1.311048150062561."
      ],
      "text/plain": [
       "<IPython.core.display.Markdown object>"
      ]
     },
     "metadata": {},
     "output_type": "display_data"
    },
    {
     "name": "stdout",
     "output_type": "stream",
     "text": [
      "\n",
      "\n",
      "\u001b[1m> Entering new RetrievalQA chain...\u001b[0m\n",
      "\n",
      "\u001b[1m> Finished chain.\u001b[0m\n"
     ]
    },
    {
     "data": {
      "text/markdown": [
       "Yussuf Poulsen is expected to score the most goals with an expected goals value of 1.311048150062561."
      ],
      "text/plain": [
       "<IPython.core.display.Markdown object>"
      ]
     },
     "metadata": {},
     "output_type": "display_data"
    },
    {
     "name": "stdout",
     "output_type": "stream",
     "text": [
      "\n",
      "\n",
      "\u001b[1m> Entering new RetrievalQA chain...\u001b[0m\n",
      "\n",
      "\u001b[1m> Finished chain.\u001b[0m\n"
     ]
    },
    {
     "data": {
      "text/markdown": [
       "Rogerio plays for Wolfsburg as a DML. He has scored 1 goal and has not provided any assists."
      ],
      "text/plain": [
       "<IPython.core.display.Markdown object>"
      ]
     },
     "metadata": {},
     "output_type": "display_data"
    },
    {
     "name": "stdout",
     "output_type": "stream",
     "text": [
      "\n",
      "\n",
      "\u001b[1m> Entering new RetrievalQA chain...\u001b[0m\n",
      "\n",
      "\u001b[1m> Finished chain.\u001b[0m\n"
     ]
    },
    {
     "data": {
      "text/markdown": [
       "The first action in the match occurred in the 5th minute when Mattias Svanberg took a shot on target for Wolfsburg."
      ],
      "text/plain": [
       "<IPython.core.display.Markdown object>"
      ]
     },
     "metadata": {},
     "output_type": "display_data"
    },
    {
     "name": "stdout",
     "output_type": "stream",
     "text": [
      "\n",
      "\n",
      "\u001b[1m> Entering new RetrievalQA chain...\u001b[0m\n",
      "\n",
      "\u001b[1m> Finished chain.\u001b[0m\n"
     ]
    },
    {
     "data": {
      "text/markdown": [
       "The first action in the game occurred in the 16th minute when Loïs Openda had a shot on target, but it was saved by RasenBallsport Leipzig."
      ],
      "text/plain": [
       "<IPython.core.display.Markdown object>"
      ]
     },
     "metadata": {},
     "output_type": "display_data"
    },
    {
     "name": "stdout",
     "output_type": "stream",
     "text": [
      "\n",
      "\n",
      "\u001b[1m> Entering new RetrievalQA chain...\u001b[0m\n",
      "\n",
      "\u001b[1m> Finished chain.\u001b[0m\n"
     ]
    },
    {
     "data": {
      "text/markdown": [
       "The first event in the match was Loïs Openda's shot on target in the 16th minute, which was saved by RasenBallsport Leipzig."
      ],
      "text/plain": [
       "<IPython.core.display.Markdown object>"
      ]
     },
     "metadata": {},
     "output_type": "display_data"
    },
    {
     "name": "stdout",
     "output_type": "stream",
     "text": [
      "\n",
      "\n",
      "\u001b[1m> Entering new RetrievalQA chain...\u001b[0m\n",
      "\n",
      "\u001b[1m> Finished chain.\u001b[0m\n"
     ]
    },
    {
     "data": {
      "text/markdown": [
       "The last action in the game was Rogerio scoring a goal for Wolfsburg in the 65th minute."
      ],
      "text/plain": [
       "<IPython.core.display.Markdown object>"
      ]
     },
     "metadata": {},
     "output_type": "display_data"
    },
    {
     "name": "stdout",
     "output_type": "stream",
     "text": [
      "\n",
      "\n",
      "\u001b[1m> Entering new RetrievalQA chain...\u001b[0m\n",
      "\n",
      "\u001b[1m> Finished chain.\u001b[0m\n"
     ]
    },
    {
     "data": {
      "text/markdown": [
       "The last event of the game was Loïs Openda's shot being blocked for RasenBallsport Leipzig in the 78th minute."
      ],
      "text/plain": [
       "<IPython.core.display.Markdown object>"
      ]
     },
     "metadata": {},
     "output_type": "display_data"
    }
   ],
   "source": [
    "from IPython.display import Markdown, display\n",
    "# Questions for the query into the RetrievalQA system\n",
    "querys = [\"Who has the highest expected goal value?\", \"Who is expected to score the most goals?\", \"What are the informations about Rogerio?\", \"When was the first action happening in the match?\", \"When was the first action happening in the game?\", \"What was the first event happening in the match?\", \"When was the last action in the game?\", \"What was the last event of the game?\"]\n",
    "\n",
    "for query in querys:\n",
    "    response = qa_stuff.run(query)\n",
    "    display(Markdown(response))"
   ]
  },
  {
   "cell_type": "code",
   "execution_count": null,
   "id": "34343052-54b7-4127-abf3-4fb6d5ecff56",
   "metadata": {},
   "outputs": [],
   "source": []
  }
 ],
 "metadata": {
  "kernelspec": {
   "display_name": "Python 3 (ipykernel)",
   "language": "python",
   "name": "python3"
  },
  "language_info": {
   "codemirror_mode": {
    "name": "ipython",
    "version": 3
   },
   "file_extension": ".py",
   "mimetype": "text/x-python",
   "name": "python",
   "nbconvert_exporter": "python",
   "pygments_lexer": "ipython3",
   "version": "3.11.5"
  }
 },
 "nbformat": 4,
 "nbformat_minor": 5
}
